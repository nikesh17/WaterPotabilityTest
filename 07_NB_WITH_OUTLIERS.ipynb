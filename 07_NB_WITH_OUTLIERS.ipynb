{
 "cells": [
  {
   "cell_type": "code",
   "execution_count": 3,
   "id": "74ea8488-e134-409c-b717-4b8afc568970",
   "metadata": {},
   "outputs": [],
   "source": [
    "import pandas as pd\n",
    "import numpy as np"
   ]
  },
  {
   "cell_type": "code",
   "execution_count": 31,
   "id": "a4b4253e-9ce0-4454-ac14-019c39a64763",
   "metadata": {},
   "outputs": [],
   "source": [
    "water_data = pd.read_csv('Water Quality Prediction.csv')"
   ]
  },
  {
   "cell_type": "code",
   "execution_count": 25,
   "id": "2c76b96d-14dd-4758-bb5c-8c251120a631",
   "metadata": {},
   "outputs": [],
   "source": [
    "water_data = water_data.drop(columns=['Source','Month','Index'], axis = 1)"
   ]
  },
  {
   "cell_type": "code",
   "execution_count": 32,
   "id": "7cf11ea9-f198-4adb-a4d8-5df8ae6b216d",
   "metadata": {},
   "outputs": [],
   "source": [
    "from sklearn.preprocessing import LabelEncoder\n",
    "\n",
    "scaler = LabelEncoder()\n",
    "\n",
    "water_data['Color'] = scaler.fit_transform(water_data['Color'])\n",
    "water_data['Source'] = scaler.fit_transform(water_data['Source'])\n",
    "water_data['Month'] = scaler.fit_transform(water_data['Month'])"
   ]
  },
  {
   "cell_type": "code",
   "execution_count": 33,
   "id": "05e3dd10-8112-4700-bd47-35880eefda42",
   "metadata": {},
   "outputs": [
    {
     "name": "stdout",
     "output_type": "stream",
     "text": [
      "<class 'pandas.core.frame.DataFrame'>\n",
      "RangeIndex: 1048575 entries, 0 to 1048574\n",
      "Data columns (total 24 columns):\n",
      " #   Column                  Non-Null Count    Dtype  \n",
      "---  ------                  --------------    -----  \n",
      " 0   Index                   1048575 non-null  int64  \n",
      " 1   pH                      1028344 non-null  float64\n",
      " 2   Iron                    1041584 non-null  float64\n",
      " 3   Nitrate                 1029880 non-null  float64\n",
      " 4   Chloride                1017741 non-null  float64\n",
      " 5   Lead                    1043891 non-null  float64\n",
      " 6   Zinc                    1020900 non-null  float64\n",
      " 7   Color                   1048575 non-null  int64  \n",
      " 8   Turbidity               1039881 non-null  float64\n",
      " 9   Fluoride                1015357 non-null  float64\n",
      " 10  Copper                  1013693 non-null  float64\n",
      " 11  Odor                    1017243 non-null  float64\n",
      " 12  Sulfate                 1014050 non-null  float64\n",
      " 13  Conductivity            1019772 non-null  float64\n",
      " 14  Chlorine                1038413 non-null  float64\n",
      " 15  Manganese               1029236 non-null  float64\n",
      " 16  Total Dissolved Solids  1048277 non-null  float64\n",
      " 17  Source                  1048575 non-null  int64  \n",
      " 18  Water Temperature       1018887 non-null  float64\n",
      " 19  Air Temperature         1043272 non-null  float64\n",
      " 20  Month                   1048575 non-null  int64  \n",
      " 21  Day                     1031026 non-null  float64\n",
      " 22  Time of Day             1028214 non-null  float64\n",
      " 23  Target                  1048575 non-null  int64  \n",
      "dtypes: float64(19), int64(5)\n",
      "memory usage: 192.0 MB\n"
     ]
    }
   ],
   "source": [
    "water_data.info()"
   ]
  },
  {
   "cell_type": "code",
   "execution_count": 34,
   "id": "f25c1e44-dd86-455e-a34c-230a317bdb87",
   "metadata": {},
   "outputs": [
    {
     "data": {
      "text/plain": [
       "Index                         0\n",
       "pH                        20231\n",
       "Iron                       6991\n",
       "Nitrate                   18695\n",
       "Chloride                  30834\n",
       "Lead                       4684\n",
       "Zinc                      27675\n",
       "Color                         0\n",
       "Turbidity                  8694\n",
       "Fluoride                  33218\n",
       "Copper                    34882\n",
       "Odor                      31332\n",
       "Sulfate                   34525\n",
       "Conductivity              28803\n",
       "Chlorine                  10162\n",
       "Manganese                 19339\n",
       "Total Dissolved Solids      298\n",
       "Source                        0\n",
       "Water Temperature         29688\n",
       "Air Temperature            5303\n",
       "Month                         0\n",
       "Day                       17549\n",
       "Time of Day               20361\n",
       "Target                        0\n",
       "dtype: int64"
      ]
     },
     "execution_count": 34,
     "metadata": {},
     "output_type": "execute_result"
    }
   ],
   "source": [
    "water_data.isna().sum()"
   ]
  },
  {
   "cell_type": "code",
   "execution_count": 35,
   "id": "c2c738b6-d2c7-4265-83c8-71a026cb128a",
   "metadata": {},
   "outputs": [],
   "source": [
    "water_data.fillna(water_data.mean(), inplace = True)"
   ]
  },
  {
   "cell_type": "code",
   "execution_count": 36,
   "id": "7f7f5991-f446-490a-9822-7eb777898374",
   "metadata": {},
   "outputs": [
    {
     "data": {
      "text/plain": [
       "Index                     0\n",
       "pH                        0\n",
       "Iron                      0\n",
       "Nitrate                   0\n",
       "Chloride                  0\n",
       "Lead                      0\n",
       "Zinc                      0\n",
       "Color                     0\n",
       "Turbidity                 0\n",
       "Fluoride                  0\n",
       "Copper                    0\n",
       "Odor                      0\n",
       "Sulfate                   0\n",
       "Conductivity              0\n",
       "Chlorine                  0\n",
       "Manganese                 0\n",
       "Total Dissolved Solids    0\n",
       "Source                    0\n",
       "Water Temperature         0\n",
       "Air Temperature           0\n",
       "Month                     0\n",
       "Day                       0\n",
       "Time of Day               0\n",
       "Target                    0\n",
       "dtype: int64"
      ]
     },
     "execution_count": 36,
     "metadata": {},
     "output_type": "execute_result"
    }
   ],
   "source": [
    "water_data.isna().sum()"
   ]
  },
  {
   "cell_type": "code",
   "execution_count": 37,
   "id": "0b3b335f-1b0a-4022-8d7f-815d8d22afad",
   "metadata": {},
   "outputs": [],
   "source": [
    "X = water_data.drop('Target',axis = 1)\n",
    "y = water_data['Target']"
   ]
  },
  {
   "cell_type": "code",
   "execution_count": 38,
   "id": "c04205ea-2289-46c7-9c80-3581280de434",
   "metadata": {},
   "outputs": [
    {
     "data": {
      "text/plain": [
       "pH                       -0.032767\n",
       "Time of Day              -0.001383\n",
       "Water Temperature        -0.001253\n",
       "Source                   -0.000515\n",
       "Conductivity             -0.000470\n",
       "Day                      -0.000282\n",
       "Month                     0.001302\n",
       "Air Temperature           0.002529\n",
       "Index                     0.003557\n",
       "Lead                      0.042539\n",
       "Zinc                      0.081962\n",
       "Total Dissolved Solids    0.092149\n",
       "Sulfate                   0.129420\n",
       "Color                     0.134877\n",
       "Chlorine                  0.148835\n",
       "Odor                      0.160840\n",
       "Nitrate                   0.171432\n",
       "Fluoride                  0.172829\n",
       "Iron                      0.178193\n",
       "Manganese                 0.197144\n",
       "Chloride                  0.207777\n",
       "Copper                    0.221141\n",
       "Turbidity                 0.237234\n",
       "dtype: float64"
      ]
     },
     "execution_count": 38,
     "metadata": {},
     "output_type": "execute_result"
    }
   ],
   "source": [
    "X.corrwith(y).sort_values()"
   ]
  },
  {
   "cell_type": "code",
   "execution_count": 41,
   "id": "52dfc614-09e8-45bd-9a04-ce6805644044",
   "metadata": {},
   "outputs": [],
   "source": [
    "X = X.drop(columns = ['Time of Day','Water Temperature', 'Source','Conductivity','Day','Month','Air Temperature','Index'], axis = 1)"
   ]
  },
  {
   "cell_type": "code",
   "execution_count": 42,
   "id": "3da8c341-cdd8-4aee-9156-ceb76138be29",
   "metadata": {},
   "outputs": [
    {
     "data": {
      "text/plain": [
       "pH                       -0.032767\n",
       "Lead                      0.042539\n",
       "Zinc                      0.081962\n",
       "Total Dissolved Solids    0.092149\n",
       "Sulfate                   0.129420\n",
       "Color                     0.134877\n",
       "Chlorine                  0.148835\n",
       "Odor                      0.160840\n",
       "Nitrate                   0.171432\n",
       "Fluoride                  0.172829\n",
       "Iron                      0.178193\n",
       "Manganese                 0.197144\n",
       "Chloride                  0.207777\n",
       "Copper                    0.221141\n",
       "Turbidity                 0.237234\n",
       "dtype: float64"
      ]
     },
     "execution_count": 42,
     "metadata": {},
     "output_type": "execute_result"
    }
   ],
   "source": [
    "X.corrwith(y).sort_values()"
   ]
  },
  {
   "cell_type": "code",
   "execution_count": 43,
   "id": "fcc8dd1d-df70-4499-8b45-f0e568a93920",
   "metadata": {},
   "outputs": [],
   "source": [
    "from sklearn.model_selection import train_test_split\n",
    "\n",
    "X_train, X_test, y_train, y_test = train_test_split(X,y, test_size=0.2, random_state=42, stratify=y)"
   ]
  },
  {
   "cell_type": "code",
   "execution_count": 44,
   "id": "900d7cc2-a935-45d3-bda4-2e1b9803af0f",
   "metadata": {},
   "outputs": [],
   "source": [
    "from sklearn.ensemble import RandomForestClassifier\n",
    "\n",
    "model = RandomForestClassifier()\n",
    "\n",
    "model.fit(X_train, y_train)\n",
    "\n",
    "y_pred = model.predict(X_test)"
   ]
  },
  {
   "cell_type": "code",
   "execution_count": 45,
   "id": "7c12e3f7-b604-4f33-aa34-929adc53ce11",
   "metadata": {},
   "outputs": [
    {
     "name": "stdout",
     "output_type": "stream",
     "text": [
      "Accuracy: 0.8756\n",
      "F1 Score: 0.7799\n",
      "Precision: 0.6567\n",
      "Recall: 0.9599\n",
      "Balanced Accuracy: 0.9052\n"
     ]
    }
   ],
   "source": [
    "from sklearn.metrics import accuracy_score, precision_score, recall_score, f1_score, balanced_accuracy_score\n",
    "\n",
    "#Accuracy \n",
    "accuracy = accuracy_score(y_pred, y_test)\n",
    "\n",
    "# F1 Score\n",
    "f1 = f1_score(y_test, y_pred)\n",
    "\n",
    "# Precision\n",
    "precision = precision_score(y_test, y_pred)\n",
    "\n",
    "# Recall\n",
    "recall = recall_score(y_test, y_pred)\n",
    "\n",
    "# Balanced Accuracy\n",
    "balanced_acc = balanced_accuracy_score(y_test, y_pred)\n",
    "\n",
    "# Display the results\n",
    "print(f\"Accuracy: {accuracy:.4f}\")\n",
    "print(f\"F1 Score: {f1:.4f}\")\n",
    "print(f\"Precision: {precision:.4f}\")\n",
    "print(f\"Recall: {recall:.4f}\")\n",
    "print(f\"Balanced Accuracy: {balanced_acc:.4f}\")"
   ]
  },
  {
   "cell_type": "code",
   "execution_count": null,
   "id": "d20956db-bc65-4bcc-b5db-6d294135700d",
   "metadata": {},
   "outputs": [],
   "source": []
  }
 ],
 "metadata": {
  "kernelspec": {
   "display_name": "Python 3 (ipykernel)",
   "language": "python",
   "name": "python3"
  },
  "language_info": {
   "codemirror_mode": {
    "name": "ipython",
    "version": 3
   },
   "file_extension": ".py",
   "mimetype": "text/x-python",
   "name": "python",
   "nbconvert_exporter": "python",
   "pygments_lexer": "ipython3",
   "version": "3.10.14"
  }
 },
 "nbformat": 4,
 "nbformat_minor": 5
}
